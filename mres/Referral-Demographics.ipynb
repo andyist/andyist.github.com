{
 "cells": [
  {
   "cell_type": "markdown",
   "metadata": {},
   "source": [
    "# Live Well Dorset Referral Demographic Analysis\n",
    "Analysis of the Live Well Dorset referral data demogrphic distributions as part of a wider analysis of the effect of professional healthcare communication on GP referral rates. \n",
    "[Research project](https://andyist.github.io/mres/)"
   ]
  },
  {
   "cell_type": "code",
   "execution_count": 2,
   "metadata": {},
   "outputs": [],
   "source": [
    "# Load libraries\n",
    "import pandas as pd                 # Data frames\n",
    "import numpy as np                  # Numeric helpers \n",
    "import matplotlib.pyplot as plt     # Graphing\n",
    "import seaborn as sns\n",
    "from tableone import TableOne       # Stratification tables\n",
    "import warnings                     # `do not disturbe` mode              \n",
    "warnings.filterwarnings('ignore')\n",
    "\n",
    "%run Livewell.ipynb # Project specific helpers \n",
    "\n",
    "#Load and prepare client data\n",
    "clients = pd.read_csv(\"csv-data/18Jan2019/clients.csv\", index_col='clientID', parse_dates=['DateRegistered','Date_registered_Month_Year'], dayfirst=True)\n",
    "clients = prepare_clients(clients)"
   ]
  },
  {
   "cell_type": "markdown",
   "metadata": {},
   "source": [
    "### 1. Client demographics stratified by GP/Non-GP referral source\n",
    "With the pre-processed data set proced by the Livewell helper functions, stratificaiton is acocmplishaed using the TableOne library developed by Pollard et al (2018). The library takes a pandas data frame and various formatting parameteres ahead of outputting tabulated stratification results. See the docmentaiton (https://tableone.readthedocs.io/en/latest/) for usage beyond the scope of this document. \n",
    "\n",
    "In the case of this study, demogrphics are grouped by the binary classification of the referral source (GP/Non GP). "
   ]
  },
  {
   "cell_type": "code",
   "execution_count": 3,
   "metadata": {},
   "outputs": [
    {
     "data": {
      "text/html": [
       "<div>\n",
       "<style scoped>\n",
       "    .dataframe tbody tr th:only-of-type {\n",
       "        vertical-align: middle;\n",
       "    }\n",
       "\n",
       "    .dataframe tbody tr th {\n",
       "        vertical-align: top;\n",
       "    }\n",
       "\n",
       "    .dataframe thead tr th {\n",
       "        text-align: left;\n",
       "    }\n",
       "\n",
       "    .dataframe thead tr:last-of-type th {\n",
       "        text-align: right;\n",
       "    }\n",
       "</style>\n",
       "<table border=\"1\" class=\"dataframe\">\n",
       "  <thead>\n",
       "    <tr>\n",
       "      <th></th>\n",
       "      <th></th>\n",
       "      <th colspan=\"3\" halign=\"left\">Grouped by GP Referral Source</th>\n",
       "    </tr>\n",
       "    <tr>\n",
       "      <th></th>\n",
       "      <th></th>\n",
       "      <th>isnull</th>\n",
       "      <th>0</th>\n",
       "      <th>1</th>\n",
       "    </tr>\n",
       "    <tr>\n",
       "      <th>variable</th>\n",
       "      <th>level</th>\n",
       "      <th></th>\n",
       "      <th></th>\n",
       "      <th></th>\n",
       "    </tr>\n",
       "  </thead>\n",
       "  <tbody>\n",
       "    <tr>\n",
       "      <th>n</th>\n",
       "      <th></th>\n",
       "      <td></td>\n",
       "      <td>10942</td>\n",
       "      <td>10582</td>\n",
       "    </tr>\n",
       "    <tr>\n",
       "      <th>Age, mean (SD)</th>\n",
       "      <th></th>\n",
       "      <td>54</td>\n",
       "      <td>54 (22)</td>\n",
       "      <td>52 (19)</td>\n",
       "    </tr>\n",
       "    <tr>\n",
       "      <th rowspan=\"2\" valign=\"top\">Gender, n (%)</th>\n",
       "      <th>Female</th>\n",
       "      <td>0</td>\n",
       "      <td>8316 (76.0)</td>\n",
       "      <td>7788 (73.6)</td>\n",
       "    </tr>\n",
       "    <tr>\n",
       "      <th>Male</th>\n",
       "      <td></td>\n",
       "      <td>2626 (24.0)</td>\n",
       "      <td>2794 (26.4)</td>\n",
       "    </tr>\n",
       "    <tr>\n",
       "      <th rowspan=\"10\" valign=\"top\">Local Authority, n (%)</th>\n",
       "      <th>Bournemouth</th>\n",
       "      <td>0</td>\n",
       "      <td>2919 (26.7)</td>\n",
       "      <td>2757 (26.1)</td>\n",
       "    </tr>\n",
       "    <tr>\n",
       "      <th>Christchurch</th>\n",
       "      <td></td>\n",
       "      <td>477 (4.4)</td>\n",
       "      <td>507 (4.8)</td>\n",
       "    </tr>\n",
       "    <tr>\n",
       "      <th>East Devon</th>\n",
       "      <td></td>\n",
       "      <td>5 (0.0)</td>\n",
       "      <td>4 (0.0)</td>\n",
       "    </tr>\n",
       "    <tr>\n",
       "      <th>East Dorset</th>\n",
       "      <td></td>\n",
       "      <td>980 (9.0)</td>\n",
       "      <td>1082 (10.2)</td>\n",
       "    </tr>\n",
       "    <tr>\n",
       "      <th>North Dorset</th>\n",
       "      <td></td>\n",
       "      <td>699 (6.4)</td>\n",
       "      <td>844 (8.0)</td>\n",
       "    </tr>\n",
       "    <tr>\n",
       "      <th>Not Available</th>\n",
       "      <td></td>\n",
       "      <td>408 (3.7)</td>\n",
       "      <td>298 (2.8)</td>\n",
       "    </tr>\n",
       "    <tr>\n",
       "      <th>Poole</th>\n",
       "      <td></td>\n",
       "      <td>2442 (22.3)</td>\n",
       "      <td>2368 (22.4)</td>\n",
       "    </tr>\n",
       "    <tr>\n",
       "      <th>Purbeck</th>\n",
       "      <td></td>\n",
       "      <td>675 (6.2)</td>\n",
       "      <td>578 (5.5)</td>\n",
       "    </tr>\n",
       "    <tr>\n",
       "      <th>West Dorset</th>\n",
       "      <td></td>\n",
       "      <td>1058 (9.7)</td>\n",
       "      <td>1061 (10.0)</td>\n",
       "    </tr>\n",
       "    <tr>\n",
       "      <th>Weymouth and Portland</th>\n",
       "      <td></td>\n",
       "      <td>1279 (11.7)</td>\n",
       "      <td>1083 (10.2)</td>\n",
       "    </tr>\n",
       "    <tr>\n",
       "      <th rowspan=\"6\" valign=\"top\">DeprivationQuintiles, median [Q1,Q3]</th>\n",
       "      <th>20 to 40% most deprived</th>\n",
       "      <td>0</td>\n",
       "      <td>2329 (21.3)</td>\n",
       "      <td>2298 (21.7)</td>\n",
       "    </tr>\n",
       "    <tr>\n",
       "      <th>20% most deprived</th>\n",
       "      <td></td>\n",
       "      <td>2980 (27.2)</td>\n",
       "      <td>2808 (26.5)</td>\n",
       "    </tr>\n",
       "    <tr>\n",
       "      <th>40 to 60%</th>\n",
       "      <td></td>\n",
       "      <td>1918 (17.5)</td>\n",
       "      <td>1913 (18.1)</td>\n",
       "    </tr>\n",
       "    <tr>\n",
       "      <th>60 to 80% least deprived</th>\n",
       "      <td></td>\n",
       "      <td>1954 (17.9)</td>\n",
       "      <td>1897 (17.9)</td>\n",
       "    </tr>\n",
       "    <tr>\n",
       "      <th>80 to 100% least deprived</th>\n",
       "      <td></td>\n",
       "      <td>1353 (12.4)</td>\n",
       "      <td>1368 (12.9)</td>\n",
       "    </tr>\n",
       "    <tr>\n",
       "      <th>Not Available</th>\n",
       "      <td></td>\n",
       "      <td>408 (3.7)</td>\n",
       "      <td>298 (2.8)</td>\n",
       "    </tr>\n",
       "  </tbody>\n",
       "</table>\n",
       "</div><br />[1] Warning, Hartigan's Dip Test reports possible multimodal distributions for: Age.<br />[2] Warning, test for normality reports non-normal distributions for: Age.<br />"
      ],
      "text/plain": [
       "                                                               Grouped by GP Referral Source                          \n",
       "                                                                                      isnull            0            1\n",
       "variable                             level                                                                            \n",
       "n                                                                                                   10942        10582\n",
       "Age, mean (SD)                                                                            54      54 (22)      52 (19)\n",
       "Gender, n (%)                        Female                                                0  8316 (76.0)  7788 (73.6)\n",
       "                                     Male                                                     2626 (24.0)  2794 (26.4)\n",
       "Local Authority, n (%)               Bournemouth                                           0  2919 (26.7)  2757 (26.1)\n",
       "                                     Christchurch                                               477 (4.4)    507 (4.8)\n",
       "                                     East Devon                                                   5 (0.0)      4 (0.0)\n",
       "                                     East Dorset                                                980 (9.0)  1082 (10.2)\n",
       "                                     North Dorset                                               699 (6.4)    844 (8.0)\n",
       "                                     Not Available                                              408 (3.7)    298 (2.8)\n",
       "                                     Poole                                                    2442 (22.3)  2368 (22.4)\n",
       "                                     Purbeck                                                    675 (6.2)    578 (5.5)\n",
       "                                     West Dorset                                               1058 (9.7)  1061 (10.0)\n",
       "                                     Weymouth and Portland                                    1279 (11.7)  1083 (10.2)\n",
       "DeprivationQuintiles, median [Q1,Q3] 20 to 40% most deprived                               0  2329 (21.3)  2298 (21.7)\n",
       "                                     20% most deprived                                        2980 (27.2)  2808 (26.5)\n",
       "                                     40 to 60%                                                1918 (17.5)  1913 (18.1)\n",
       "                                     60 to 80% least deprived                                 1954 (17.9)  1897 (17.9)\n",
       "                                     80 to 100% least deprived                                1353 (12.4)  1368 (12.9)\n",
       "                                     Not Available                                              408 (3.7)    298 (2.8)\n",
       "[1] Warning, Hartigan's Dip Test reports possible multimodal distributions for: Age.\n",
       "[2] Warning, test for normality reports non-normal distributions for: Age."
      ]
     },
     "metadata": {},
     "output_type": "display_data"
    }
   ],
   "source": [
    "# Setup data strucure - identify series, groups, non-normal and decimals. Add labels and output stratfied results. \n",
    "columns = ['Age','Gender','PostcodeLA','PostcodeDeprivationQuintiles']\n",
    "categorical = ['PostcodeLA','Gender','PostcodeDeprivationQuintiles']\n",
    "groupby = ['gp_referral']\n",
    "nonnormal = ['PostcodeDeprivationQuintiles']\n",
    "decimals = {\"Age\": 0}\n",
    "labels={'gp_referral': 'GP Referral Source', 'PostcodeLA': 'Local Authority', 'PostcodeDeprivationQuintiles': 'DeprivationQuintiles'}\n",
    "table1 = TableOne(clients, columns, categorical, groupby, nonnormal, labels=labels, label_suffix=True, decimals=decimals)\n",
    "display(table1)"
   ]
  },
  {
   "cell_type": "code",
   "execution_count": 4,
   "metadata": {},
   "outputs": [],
   "source": [
    "# Optionally output the table to an html file\n",
    "#output_html_table_file(table1)"
   ]
  },
  {
   "cell_type": "markdown",
   "metadata": {},
   "source": [
    "### 2. Review Age variable distribution"
   ]
  },
  {
   "cell_type": "code",
   "execution_count": 9,
   "metadata": {},
   "outputs": [
    {
     "data": {
      "text/plain": [
       "(-30, 250)"
      ]
     },
     "execution_count": 9,
     "metadata": {},
     "output_type": "execute_result"
    },
    {
     "data": {
      "image/png": "[encoded data removed]",
      "text/plain": [
       "<Figure size 720x288 with 1 Axes>"
      ]
     },
     "metadata": {
      "needs_background": "light"
     },
     "output_type": "display_data"
    }
   ],
   "source": [
    "clients[['Age']].dropna().plot.kde(figsize=[10,4])\n",
    "plt.legend(['Age (years)'])\n",
    "plt.xlim([-30,250])"
   ]
  },
  {
   "cell_type": "markdown",
   "metadata": {},
   "source": [
    "### 3. GP referrals by practice\n",
    "To expand upon the individual client demogrpahics, a ditribution by their practice. "
   ]
  },
  {
   "cell_type": "code",
   "execution_count": 6,
   "metadata": {},
   "outputs": [
    {
     "ename": "NameError",
     "evalue": "name 'practices' is not defined",
     "output_type": "error",
     "traceback": [
      "\u001b[0;31m---------------------------------------------------------------------------\u001b[0m",
      "\u001b[0;31mNameError\u001b[0m                                 Traceback (most recent call last)",
      "\u001b[0;32m<ipython-input-6-3c8894326229>\u001b[0m in \u001b[0;36m<module>\u001b[0;34m()\u001b[0m\n\u001b[0;32m----> 1\u001b[0;31m \u001b[0mpractices\u001b[0m\u001b[0;34m.\u001b[0m\u001b[0mhead\u001b[0m\u001b[0;34m(\u001b[0m\u001b[0;34m)\u001b[0m\u001b[0;34m\u001b[0m\u001b[0;34m\u001b[0m\u001b[0m\n\u001b[0m",
      "\u001b[0;31mNameError\u001b[0m: name 'practices' is not defined"
     ]
    }
   ],
   "source": [
    "practices.head()"
   ]
  },
  {
   "cell_type": "code",
   "execution_count": null,
   "metadata": {},
   "outputs": [],
   "source": [
    "# Group and count by practice\n",
    "series.groupby([series[\"gp_surgery\"]]).size().sort_values(ascending=False).head(10)"
   ]
  },
  {
   "cell_type": "code",
   "execution_count": null,
   "metadata": {},
   "outputs": [],
   "source": [
    "print('Records before: ' + str(len(series.index)))\n",
    "# Drop errornous top resulting values\n",
    "drop_list = ['-1','0 NOT RECORDED']\n",
    "series = series.loc[~series['gp_surgery'].isin(drop_list)]\n",
    "# Count monthly registrations by month and location\n",
    "s = series.groupby([series[\"YearMonth\"], series[\"gp_surgery\"]]).size().reset_index(name='counts')\n",
    "print('Records after: ' + str(len(series.index)))"
   ]
  },
  {
   "cell_type": "code",
   "execution_count": null,
   "metadata": {},
   "outputs": [],
   "source": [
    "# Plot top 10 locations delivery of referals over time\n",
    "plt.figure(figsize=(10,4)).suptitle('Top 10 GP practices referral counts per month', fontsize=16)\n",
    "for pname in s.sort_values(by=['counts'], ascending=False).gp_surgery.unique()[0:10] :\n",
    "    # Get practice specific values\n",
    "    surcount = s.loc[s['gp_surgery'] == pname]\n",
    "    # Setup and create practice plot\n",
    "    plt.xticks(rotation=90)\n",
    "    plt.plot(surcount['YearMonth'], surcount['counts'], marker='', linewidth=1, alpha=0.4, label=pname)\n",
    "plt.legend(loc='upper left',bbox_to_anchor=(1, 1))"
   ]
  },
  {
   "cell_type": "code",
   "execution_count": null,
   "metadata": {},
   "outputs": [],
   "source": [
    "# Referrals where a practice value was present\n",
    "practices = clients.groupby('gp_surgery').count()\n",
    "practices.drop_duplicates(subset=\"clientID\", keep='first', inplace=True)\n",
    "print('Referrals with practice data: ' + str(practices['gp_referral'].sum()) + ' of ' + str(clients['gp_referral'].sum()))"
   ]
  },
  {
   "cell_type": "code",
   "execution_count": null,
   "metadata": {},
   "outputs": [],
   "source": [
    "# Count totals\n",
    "referals_counts_df = clients.loc[clients['gp_referral'] == 1].groupby('gp_surgery')['gp_surgery'].count().reset_index(name='count').sort_values(['count'], ascending=False)\n",
    "# Plot distribution\n",
    "ax = sns.distplot(referals_counts_df['count'], bins=50)\n",
    "ax.set(xlabel='Surgery', ylabel='')\n"
   ]
  },
  {
   "cell_type": "markdown",
   "metadata": {},
   "source": [
    "In the interest of GP referal perofrmance, the top 10 practices and their referral counts are shown below. "
   ]
  },
  {
   "cell_type": "code",
   "execution_count": null,
   "metadata": {},
   "outputs": [],
   "source": [
    "# Show top referrers\n",
    "#print(referals_counts_df.to_string(index=False))\n",
    "referals_counts_df.head(10)"
   ]
  },
  {
   "cell_type": "code",
   "execution_count": null,
   "metadata": {},
   "outputs": [],
   "source": [
    "https://www.kaggle.com/flagma/health-care-cost-analysys-prediction-python/notebook"
   ]
  },
  {
   "cell_type": "markdown",
   "metadata": {},
   "source": [
    "Tom J Pollard, Alistair E W Johnson, Jesse D Raffa, Roger G Mark;\n",
    "tableone: An open source Python package for producing summary statistics\n",
    "for research papers, JAMIA Open, Volume 1, Issue 1, 1 July 2018, Pages 26–31,\n",
    "https://doi.org/10.1093/jamiaopen/ooy012"
   ]
  }
 ],
 "metadata": {
  "kernelspec": {
   "display_name": "Python 3",
   "language": "python",
   "name": "python3"
  },
  "language_info": {
   "codemirror_mode": {
    "name": "ipython",
    "version": 3
   },
   "file_extension": ".py",
   "mimetype": "text/x-python",
   "name": "python",
   "nbconvert_exporter": "python",
   "pygments_lexer": "ipython3",
   "version": "3.7.2"
  }
 },
 "nbformat": 4,
 "nbformat_minor": 2
}
